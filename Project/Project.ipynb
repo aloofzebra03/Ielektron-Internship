{
 "cells": [
  {
   "cell_type": "code",
   "execution_count": 15,
   "id": "13d2edae",
   "metadata": {},
   "outputs": [],
   "source": [
    "import xml.etree.ElementTree as ET\n",
    "from PIL import Image, ImageDraw\n",
    "\n",
    "def draw_bounding_boxes(image_path, xml_path):\n",
    "    # Parse the XML file\n",
    "    tree = ET.parse(xml_path)\n",
    "    root = tree.getroot()\n",
    "\n",
    "    # Open the image\n",
    "    image = Image.open(image_path)\n",
    "    draw = ImageDraw.Draw(image)\n",
    "\n",
    "    # Iterate through each object in the XML\n",
    "    for obj in root.findall('object'):\n",
    "        name = obj.find('name').text\n",
    "        bndbox = obj.find('bndbox')\n",
    "        xmin = int(bndbox.find('xmin').text)\n",
    "        ymin = int(bndbox.find('ymin').text)\n",
    "        xmax = int(bndbox.find('xmax').text)\n",
    "        ymax = int(bndbox.find('ymax').text)\n",
    "\n",
    "        # Draw the bounding box\n",
    "        draw.rectangle([xmin, ymin, xmax, ymax], outline='red', width=3)\n",
    "        draw.text((xmin, ymin - 10), name, fill='red')\n",
    "\n",
    "    # Display the image\n",
    "    image.show()\n",
    "\n",
    "# Replace these paths with the actual paths to your image and XML file\n",
    "image_path = r\"C:\\Users\\aryan\\OneDrive\\Desktop\\Ielektron Internship\\IDD_Detection\\JPEGImages\\frontFar\\BLR-2018-03-22_17-39-26_2_frontFar\\000006_r.jpg\"\n",
    "xml_path = r\"C:\\Users\\aryan\\OneDrive\\Desktop\\Ielektron Internship\\IDD_Detection\\000006_r_copy.xml\"\n",
    "\n",
    "draw_bounding_boxes(image_path, xml_path)\n"
   ]
  },
  {
   "cell_type": "markdown",
   "id": "b94867c3",
   "metadata": {},
   "source": [
    "+ This code can take an xml file and an image and draw the bounding boxes on that image."
   ]
  },
  {
   "cell_type": "code",
   "execution_count": null,
   "id": "6b6157ae",
   "metadata": {},
   "outputs": [],
   "source": []
  }
 ],
 "metadata": {
  "kernelspec": {
   "display_name": "Python 3 (ipykernel)",
   "language": "python",
   "name": "python3"
  },
  "language_info": {
   "codemirror_mode": {
    "name": "ipython",
    "version": 3
   },
   "file_extension": ".py",
   "mimetype": "text/x-python",
   "name": "python",
   "nbconvert_exporter": "python",
   "pygments_lexer": "ipython3",
   "version": "3.11.0"
  }
 },
 "nbformat": 4,
 "nbformat_minor": 5
}
